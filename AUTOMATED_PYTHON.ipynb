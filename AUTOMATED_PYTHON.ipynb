{
 "cells": [
  {
   "cell_type": "code",
   "execution_count": 16,
   "id": "e5999717",
   "metadata": {},
   "outputs": [],
   "source": [
    "import pandas as pd\n",
    "\n",
    "# Read Excel files\n",
    "df = pd.read_excel(\"C:/Users/USER/Documents/Github/h4h-submit version/OUTPUT DATA OF MODELS/wiki_results_final_new.xlsx\")\n",
    "df2 = pd.read_excel(\"C:/Users/USER/Documents/Github/h4h-submit version/OUTPUT DATA OF MODELS/LDA_FPI_top_results_new.xlsx\")\n",
    "df3 = pd.read_excel(\"C:/Users/USER/Documents/Github/h4h-submit version/OUTPUT DATA OF MODELS/cluster_results_final_new.xlsx\")\n",
    "df4 = pd.read_excel(\"C:/Users/USER/Documents/Github/h4h-submit version/OUTPUT DATA OF MODELS/fpi_cluster_results_final_new.xlsx\")"
   ]
  },
  {
   "cell_type": "code",
   "execution_count": 17,
   "id": "54a7235e",
   "metadata": {},
   "outputs": [],
   "source": [
    "# List of species to exclude\n",
    "species_to_exclude = [\n",
    "    \"Apium graveolens\", \"Solanum tuberosum\", \"Malus domestica\", \"Musa × paradisiaca\", \"Capsicum annuum\",\n",
    "    \"Oryza sativa\", \"Zea mays\", \"Spinacia oleracea\", \"Brassica oleracea var. capitata\", \"Daucus carota\",\n",
    "    \"Cocos nucifera\", \"Phoenix dactylifera\", \"Linum usitatissimum\", \"Citrus limon\", \"Citrullus lanatus\",\n",
    "    \"Allium spp.\", \"Capsicum annuum\", \"Pisum sativum\", \"Glycine max\", \"Avena sativa\", \"Carica papaya\",\n",
    "    \"Prunus persica\", \"Ananas comosus\", \"Citrus sinensis\", \"Allium cepa\", \"Phaseolus vulgaris\", \"Fagopyrum esculentum\",\n",
    "    \"Brassica oleracea\", \"Citrus reticulata\", \"Cucumis melo\", \"Arachis hypogea\", \"Brassica rapa\", \"Triticum aestivum\",\n",
    "    \"Brassica oleracea var. capitata\", \"Cichorium intybus\", \"Cucurbita spp.\", \"Solanum melongena\", \"Prunus domestica\",\n",
    "    \"Foeniculum vulgare\", \"Ficus carica\", \"Rheum rhabarbarum\", \"Psidium guajava\", \"Armoracia rusticana\",\n",
    "    \"Actinidia chinensis\", \"Lactuca sativa\", \"Abelmoschus esculentus\", \"Pyrus communis\", \"Pistacia vera\",\n",
    "    \"Secale cereale\"\n",
    "]"
   ]
  },
  {
   "cell_type": "code",
   "execution_count": 18,
   "id": "a783de83",
   "metadata": {},
   "outputs": [],
   "source": [
    "# Filter dataframes\n",
    "dfs = [df, df2, df3, df4]\n",
    "dfs = [df[df['CropSpecies'].notna() & ~df['CropSpecies'].isin(species_to_exclude)] for df in dfs]"
   ]
  },
  {
   "cell_type": "code",
   "execution_count": 19,
   "id": "b4014be3",
   "metadata": {},
   "outputs": [
    {
     "name": "stderr",
     "output_type": "stream",
     "text": [
      "C:\\Users\\USER\\AppData\\Local\\Temp\\ipykernel_18936\\266750220.py:3: SettingWithCopyWarning: \n",
      "A value is trying to be set on a copy of a slice from a DataFrame\n",
      "\n",
      "See the caveats in the documentation: https://pandas.pydata.org/pandas-docs/stable/user_guide/indexing.html#returning-a-view-versus-a-copy\n",
      "  df.fillna(0, inplace=True)\n"
     ]
    }
   ],
   "source": [
    "# Replace NA values with 0\n",
    "for df in dfs:\n",
    "    df.fillna(0, inplace=True)"
   ]
  },
  {
   "cell_type": "code",
   "execution_count": 20,
   "id": "4084d2fd",
   "metadata": {},
   "outputs": [
    {
     "name": "stderr",
     "output_type": "stream",
     "text": [
      "C:\\Users\\USER\\AppData\\Local\\Temp\\ipykernel_18936\\1609510669.py:5: SettingWithCopyWarning: \n",
      "A value is trying to be set on a copy of a slice from a DataFrame.\n",
      "Try using .loc[row_indexer,col_indexer] = value instead\n",
      "\n",
      "See the caveats in the documentation: https://pandas.pydata.org/pandas-docs/stable/user_guide/indexing.html#returning-a-view-versus-a-copy\n",
      "  df[numeric_cols] = df[numeric_cols] * weights[i]\n"
     ]
    }
   ],
   "source": [
    "# Multiply numeric columns by weights\n",
    "weights = [0.15, 0.15, 0.35, 0.35]\n",
    "for i, df in enumerate(dfs):\n",
    "    numeric_cols = df.select_dtypes(include='number').columns\n",
    "    df[numeric_cols] = df[numeric_cols] * weights[i]"
   ]
  },
  {
   "cell_type": "code",
   "execution_count": 21,
   "id": "5a5bfc11",
   "metadata": {},
   "outputs": [],
   "source": [
    "# Merge data\n",
    "df_merged = pd.concat(dfs).groupby(\"CropSpecies\").sum().reset_index()\n",
    "df_merged.to_excel(\"C:/Users/USER/Documents/Github/h4h-submit version/PREDICTIVE MODEL PROCESS OUTPUTS/merged_new.xlsx\", index=False)"
   ]
  },
  {
   "cell_type": "code",
   "execution_count": 22,
   "id": "c512e56e",
   "metadata": {},
   "outputs": [],
   "source": [
    "# Assign weights\n",
    "df_weights = pd.read_excel(\"C:/Users/USER/Documents/Github/h4h-submit version/PREDICTIVE MODEL PROCESS OUTPUTS/weights.xlsx\")\n",
    "df_weights['Score'] = ((len(df_weights) * 2) - df_weights['Rank'] + 1)\n",
    "df_weights['Weight'] = df_weights['Score'] / df_weights['Score'].sum()\n",
    "df_weights['Rank_U'] = df_weights['U_UN'].rank(ascending=False)\n",
    "df_weights['Score_U'] = (len(df_weights) - df_weights['Rank_U'] + 1)\n",
    "df_weights['Weight_U'] = df_weights['Score_U'] / df_weights['Score_U'].sum()\n",
    "df_weights['Weight / 2'] = (df_weights['Weight'] + df_weights['Weight_U']) / 2\n",
    "df_weights['Final_Rank'] = df_weights['Weight / 2'].rank(ascending=False)\n",
    "df_weights.to_excel(\"C:/Users/USER/Documents/Github/h4h-submit version/PREDICTIVE MODEL PROCESS OUTPUTS/Final_Rank_new.xlsx\", index=False)"
   ]
  },
  {
   "cell_type": "code",
   "execution_count": 23,
   "id": "ea6b59c6",
   "metadata": {},
   "outputs": [],
   "source": [
    "# Transpose weights\n",
    "df_transposed = df_weights[['Crops', 'Weight / 2']].set_index('Crops').T\n",
    "\n",
    "df_transposed.to_excel(\"C:/Users/USER/Documents/Github/h4h-submit version/PREDICTIVE MODEL PROCESS OUTPUTS/Transposed_new.xlsx\", index=False)"
   ]
  },
  {
   "cell_type": "code",
   "execution_count": 24,
   "id": "88f86f33",
   "metadata": {},
   "outputs": [],
   "source": [
    "# Merge weights with original data\n",
    "df_merged = pd.read_excel(\"C:/Users/USER/Documents/Github/h4h-submit version/PREDICTIVE MODEL PROCESS OUTPUTS/merged_new.xlsx\")\n",
    "df_weights = pd.read_excel(\"C:/Users/USER/Documents/Github/h4h-submit version/PREDICTIVE MODEL PROCESS OUTPUTS/Transposed_new.xlsx\")\n",
    "df_merged.iloc[0, 1:] = df_weights.iloc[0, :]\n",
    "df_merged.to_excel(\"C:/Users/USER/Documents/Github/h4h-submit version/PREDICTIVE MODEL PROCESS OUTPUTS/merged_updated_new.xlsx\", index=False)"
   ]
  },
  {
   "cell_type": "code",
   "execution_count": 25,
   "id": "7b0b4439",
   "metadata": {},
   "outputs": [],
   "source": [
    "# Multiply values by weights\n",
    "df_updated = pd.read_excel(\"C:/Users/USER/Documents/Github/h4h-submit version/PREDICTIVE MODEL PROCESS OUTPUTS/merged_updated_new.xlsx\")\n",
    "weights = df_updated.iloc[0, 1:].values\n",
    "df_values = df_updated.iloc[1:].copy()\n",
    "df_values.iloc[:, 1:] = df_values.iloc[:, 1:].apply(lambda x: x * weights, axis=1)\n",
    "df_values.to_excel(\"C:/Users/USER/Documents/Github/h4h-submit version/PREDICTIVE MODEL PROCESS OUTPUTS/AUTOMATED/MULTIPLIED.xlsx\", index=False)"
   ]
  },
  {
   "cell_type": "code",
   "execution_count": 26,
   "id": "9698efc3",
   "metadata": {},
   "outputs": [],
   "source": [
    "# Compute sum per CropSpecies\n",
    "df_values['SUM'] = df_values.iloc[:, 1:].sum(axis=1)\n",
    "df_values.to_excel(\"C:/Users/USER/Documents/Github/h4h-submit version/PREDICTIVE MODEL PROCESS OUTPUTS/SUM_new.xlsx\", index=False)"
   ]
  },
  {
   "cell_type": "code",
   "execution_count": 29,
   "id": "8f048c27",
   "metadata": {},
   "outputs": [],
   "source": [
    "# Merge common names\n",
    "df_collated = pd.read_excel(\"C:/Users/USER/Desktop/H4H/Collated Data (Filtered).xlsx\")\n",
    "df_values = df_values.merge(df_collated[['CropSpecies', 'CommonName']], on='CropSpecies', how='left')\n",
    "df_values = df_values.drop_duplicates(subset='CropSpecies', keep='first')\n",
    "df_values.to_excel(\"C:/Users/USER/Documents/Github/h4h-submit version/PREDICTIVE MODEL PROCESS OUTPUTS/commonname_new.xlsx\", index=False)"
   ]
  },
  {
   "cell_type": "code",
   "execution_count": 31,
   "id": "16701a19",
   "metadata": {},
   "outputs": [],
   "source": [
    "# Sort by SUM and export top 20\n",
    "df_sorted = df_values.sort_values(by='SUM', ascending=False)\n",
    "df_sorted[['CropSpecies', 'CommonName_x', 'SUM']].to_excel(\"C:/Users/USER/Documents/Github/h4h-submit version/PREDICTED CROPS/Final_Rank_UnCommon_Crops_Top 20_new.xlsx\", index=False)\n"
   ]
  },
  {
   "cell_type": "code",
   "execution_count": null,
   "id": "2304d4aa",
   "metadata": {},
   "outputs": [],
   "source": []
  }
 ],
 "metadata": {
  "kernelspec": {
   "display_name": "Python 3 (ipykernel)",
   "language": "python",
   "name": "python3"
  },
  "language_info": {
   "codemirror_mode": {
    "name": "ipython",
    "version": 3
   },
   "file_extension": ".py",
   "mimetype": "text/x-python",
   "name": "python",
   "nbconvert_exporter": "python",
   "pygments_lexer": "ipython3",
   "version": "3.9.13"
  }
 },
 "nbformat": 4,
 "nbformat_minor": 5
}
